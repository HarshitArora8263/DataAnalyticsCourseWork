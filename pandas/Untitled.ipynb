{
 "cells": [
  {
   "cell_type": "code",
   "execution_count": 15,
   "id": "8137a8aa-2c60-463e-8f1d-791e2b0d010b",
   "metadata": {},
   "outputs": [
    {
     "name": "stdout",
     "output_type": "stream",
     "text": [
      "        day  temperature  windspeed  event\n",
      "0  1/1/2017           32          6   Rain\n",
      "1  1/2/2017           35          7  Sunny\n",
      "2  1/3/2017           28          2   Snow\n",
      "3  1/4/2017           24          7   Snow\n",
      "4  1/5/2017           32          4   Rain\n",
      "5  1/6/2017           31          2  Sunny\n"
     ]
    }
   ],
   "source": [
    "# Importing pandas library\n",
    "import pandas as pd\n",
    "\n",
    "# Creating a sample weather DataFrame\n",
    "weather_data = {\n",
    "    'day': ['1/1/2017', '1/2/2017', '1/3/2017', '1/4/2017', '1/5/2017', '1/6/2017'],\n",
    "    'temperature': [32, 35, 28, 24, 32, 31],\n",
    "    'windspeed': [6, 7, 2, 7, 4, 2],\n",
    "    'event': ['Rain', 'Sunny', 'Snow', 'Snow', 'Rain', 'Sunny']\n",
    "}\n",
    "\n",
    "df = pd.DataFrame(weather_data)\n",
    "print(df)\n",
    "\n",
    "\n"
   ]
  },
  {
   "cell_type": "code",
   "execution_count": 19,
   "id": "c6dd404d-7def-44be-9801-e34dfb7c29aa",
   "metadata": {},
   "outputs": [
    {
     "name": "stdout",
     "output_type": "stream",
     "text": [
      "First 2 rows:\n",
      "   level_0  index       day  temperature  windspeed  event\n",
      "0        0      0  1/1/2017           32          6   Rain\n",
      "1        1      1  1/2/2017           35          7  Sunny\n",
      "\n",
      "Last 3 rows:\n",
      "   level_0  index       day  temperature  windspeed  event\n",
      "3        3      3  1/4/2017           24          7   Snow\n",
      "4        4      4  1/5/2017           32          4   Rain\n",
      "5        5      5  1/6/2017           31          2  Sunny\n",
      "\n",
      "Columns in the DataFrame:\n",
      "Index(['level_0', 'index', 'day', 'temperature', 'windspeed', 'event'], dtype='object')\n",
      "\n",
      "'Day' column using first method (df['day']):\n",
      "0    1/1/2017\n",
      "1    1/2/2017\n",
      "2    1/3/2017\n",
      "3    1/4/2017\n",
      "4    1/5/2017\n",
      "5    1/6/2017\n",
      "Name: day, dtype: object\n",
      "\n",
      "'Day' column using second method (df.day):\n",
      "0    1/1/2017\n",
      "1    1/2/2017\n",
      "2    1/3/2017\n",
      "3    1/4/2017\n",
      "4    1/5/2017\n",
      "5    1/6/2017\n",
      "Name: day, dtype: object\n",
      "\n",
      "Maximum Temperature:\n",
      "35\n",
      "\n",
      "Rows with temperature greater than 32:\n",
      "   level_0  index       day  temperature  windspeed  event\n",
      "1        1      1  1/2/2017           35          7  Sunny\n",
      "\n",
      "Minimum Temperature:\n",
      "24\n",
      "\n",
      "Standard Deviation of Windspeed:\n",
      "2.3380903889000244\n",
      "\n",
      "Summary Statistics for the DataFrame:\n",
      "        level_0     index  temperature  windspeed\n",
      "count  6.000000  6.000000     6.000000   6.000000\n",
      "mean   2.500000  2.500000    30.333333   4.666667\n",
      "std    1.870829  1.870829     3.829708   2.338090\n",
      "min    0.000000  0.000000    24.000000   2.000000\n",
      "25%    1.250000  1.250000    28.750000   2.500000\n",
      "50%    2.500000  2.500000    31.500000   5.000000\n",
      "75%    3.750000  3.750000    32.000000   6.750000\n",
      "max    5.000000  5.000000    35.000000   7.000000\n",
      "\n",
      "Mean of Windspeed:\n",
      "4.666666666666667\n"
     ]
    },
    {
     "ename": "ValueError",
     "evalue": "cannot insert level_0, already exists",
     "output_type": "error",
     "traceback": [
      "\u001b[1;31m---------------------------------------------------------------------------\u001b[0m",
      "\u001b[1;31mValueError\u001b[0m                                Traceback (most recent call last)",
      "\u001b[1;32m~\\AppData\\Local\\Temp\\ipykernel_10576\\4282227059.py\u001b[0m in \u001b[0;36m?\u001b[1;34m()\u001b[0m\n\u001b[0;32m     47\u001b[0m \u001b[0mprint\u001b[0m\u001b[1;33m(\u001b[0m\u001b[1;34m\"\\nMean of Windspeed:\"\u001b[0m\u001b[1;33m)\u001b[0m\u001b[1;33m\u001b[0m\u001b[1;33m\u001b[0m\u001b[0m\n\u001b[0;32m     48\u001b[0m \u001b[0mprint\u001b[0m\u001b[1;33m(\u001b[0m\u001b[0mwindspeed_mean\u001b[0m\u001b[1;33m)\u001b[0m\u001b[1;33m\u001b[0m\u001b[1;33m\u001b[0m\u001b[0m\n\u001b[0;32m     49\u001b[0m \u001b[1;33m\u001b[0m\u001b[0m\n\u001b[0;32m     50\u001b[0m \u001b[1;31m# Resetting the index\u001b[0m\u001b[1;33m\u001b[0m\u001b[1;33m\u001b[0m\u001b[0m\n\u001b[1;32m---> 51\u001b[1;33m \u001b[0mdf\u001b[0m\u001b[1;33m.\u001b[0m\u001b[0mreset_index\u001b[0m\u001b[1;33m(\u001b[0m\u001b[0minplace\u001b[0m\u001b[1;33m=\u001b[0m\u001b[1;32mTrue\u001b[0m\u001b[1;33m)\u001b[0m\u001b[1;33m\u001b[0m\u001b[1;33m\u001b[0m\u001b[0m\n\u001b[0m\u001b[0;32m     52\u001b[0m \u001b[0mprint\u001b[0m\u001b[1;33m(\u001b[0m\u001b[1;34m\"\\nDataFrame with reset index:\"\u001b[0m\u001b[1;33m)\u001b[0m\u001b[1;33m\u001b[0m\u001b[1;33m\u001b[0m\u001b[0m\n\u001b[0;32m     53\u001b[0m \u001b[0mprint\u001b[0m\u001b[1;33m(\u001b[0m\u001b[0mdf\u001b[0m\u001b[1;33m)\u001b[0m\u001b[1;33m\u001b[0m\u001b[1;33m\u001b[0m\u001b[0m\n\u001b[0;32m     54\u001b[0m \u001b[1;33m\u001b[0m\u001b[0m\n",
      "\u001b[1;32m~\\anaconda3\\Lib\\site-packages\\pandas\\core\\frame.py\u001b[0m in \u001b[0;36m?\u001b[1;34m(self, level, drop, inplace, col_level, col_fill, allow_duplicates, names)\u001b[0m\n\u001b[0;32m   6468\u001b[0m                     level_values = algorithms.take(\n\u001b[0;32m   6469\u001b[0m                         \u001b[0mlevel_values\u001b[0m\u001b[1;33m,\u001b[0m \u001b[0mlab\u001b[0m\u001b[1;33m,\u001b[0m \u001b[0mallow_fill\u001b[0m\u001b[1;33m=\u001b[0m\u001b[1;32mTrue\u001b[0m\u001b[1;33m,\u001b[0m \u001b[0mfill_value\u001b[0m\u001b[1;33m=\u001b[0m\u001b[0mlev\u001b[0m\u001b[1;33m.\u001b[0m\u001b[0m_na_value\u001b[0m\u001b[1;33m\u001b[0m\u001b[1;33m\u001b[0m\u001b[0m\n\u001b[0;32m   6470\u001b[0m                     \u001b[1;33m)\u001b[0m\u001b[1;33m\u001b[0m\u001b[1;33m\u001b[0m\u001b[0m\n\u001b[0;32m   6471\u001b[0m \u001b[1;33m\u001b[0m\u001b[0m\n\u001b[1;32m-> 6472\u001b[1;33m                 new_obj.insert(\n\u001b[0m\u001b[0;32m   6473\u001b[0m                     \u001b[1;36m0\u001b[0m\u001b[1;33m,\u001b[0m\u001b[1;33m\u001b[0m\u001b[1;33m\u001b[0m\u001b[0m\n\u001b[0;32m   6474\u001b[0m                     \u001b[0mname\u001b[0m\u001b[1;33m,\u001b[0m\u001b[1;33m\u001b[0m\u001b[1;33m\u001b[0m\u001b[0m\n\u001b[0;32m   6475\u001b[0m                     \u001b[0mlevel_values\u001b[0m\u001b[1;33m,\u001b[0m\u001b[1;33m\u001b[0m\u001b[1;33m\u001b[0m\u001b[0m\n",
      "\u001b[1;32m~\\anaconda3\\Lib\\site-packages\\pandas\\core\\frame.py\u001b[0m in \u001b[0;36m?\u001b[1;34m(self, loc, column, value, allow_duplicates)\u001b[0m\n\u001b[0;32m   5154\u001b[0m                 \u001b[1;34m\"'self.flags.allows_duplicate_labels' is False.\"\u001b[0m\u001b[1;33m\u001b[0m\u001b[1;33m\u001b[0m\u001b[0m\n\u001b[0;32m   5155\u001b[0m             \u001b[1;33m)\u001b[0m\u001b[1;33m\u001b[0m\u001b[1;33m\u001b[0m\u001b[0m\n\u001b[0;32m   5156\u001b[0m         \u001b[1;32mif\u001b[0m \u001b[1;32mnot\u001b[0m \u001b[0mallow_duplicates\u001b[0m \u001b[1;32mand\u001b[0m \u001b[0mcolumn\u001b[0m \u001b[1;32min\u001b[0m \u001b[0mself\u001b[0m\u001b[1;33m.\u001b[0m\u001b[0mcolumns\u001b[0m\u001b[1;33m:\u001b[0m\u001b[1;33m\u001b[0m\u001b[1;33m\u001b[0m\u001b[0m\n\u001b[0;32m   5157\u001b[0m             \u001b[1;31m# Should this be a different kind of error??\u001b[0m\u001b[1;33m\u001b[0m\u001b[1;33m\u001b[0m\u001b[0m\n\u001b[1;32m-> 5158\u001b[1;33m             \u001b[1;32mraise\u001b[0m \u001b[0mValueError\u001b[0m\u001b[1;33m(\u001b[0m\u001b[1;33mf\"\u001b[0m\u001b[1;33mcannot insert \u001b[0m\u001b[1;33m{\u001b[0m\u001b[0mcolumn\u001b[0m\u001b[1;33m}\u001b[0m\u001b[1;33m, already exists\u001b[0m\u001b[1;33m\"\u001b[0m\u001b[1;33m)\u001b[0m\u001b[1;33m\u001b[0m\u001b[1;33m\u001b[0m\u001b[0m\n\u001b[0m\u001b[0;32m   5159\u001b[0m         \u001b[1;32mif\u001b[0m \u001b[1;32mnot\u001b[0m \u001b[0mis_integer\u001b[0m\u001b[1;33m(\u001b[0m\u001b[0mloc\u001b[0m\u001b[1;33m)\u001b[0m\u001b[1;33m:\u001b[0m\u001b[1;33m\u001b[0m\u001b[1;33m\u001b[0m\u001b[0m\n\u001b[0;32m   5160\u001b[0m             \u001b[1;32mraise\u001b[0m \u001b[0mTypeError\u001b[0m\u001b[1;33m(\u001b[0m\u001b[1;34m\"loc must be int\"\u001b[0m\u001b[1;33m)\u001b[0m\u001b[1;33m\u001b[0m\u001b[1;33m\u001b[0m\u001b[0m\n\u001b[0;32m   5161\u001b[0m         \u001b[1;31m# convert non stdlib ints to satisfy typing checks\u001b[0m\u001b[1;33m\u001b[0m\u001b[1;33m\u001b[0m\u001b[0m\n",
      "\u001b[1;31mValueError\u001b[0m: cannot insert level_0, already exists"
     ]
    }
   ],
   "source": [
    "# Displaying the first few rows of the DataFrame\n",
    "print(\"First 2 rows:\")\n",
    "print(df.head(2))\n",
    "\n",
    "# Displaying the last 3 rows of the DataFrame\n",
    "print(\"\\nLast 3 rows:\")\n",
    "print(df.tail(3))\n",
    "\n",
    "# Displaying the columns of the DataFrame\n",
    "print(\"\\nColumns in the DataFrame:\")\n",
    "print(df.columns)\n",
    "\n",
    "# Selecting the 'day' column using both methods\n",
    "print(\"\\n'Day' column using first method (df['day']):\")\n",
    "print(df['day'])  \n",
    "\n",
    "\n",
    "print(\"\\n'Day' column using second method (df.day):\")\n",
    "print(df.day)\n",
    "\n",
    "# Finding the maximum temperature\n",
    "max_temp = df['temperature'].max()\n",
    "print(\"\\nMaximum Temperature:\")\n",
    "print(max_temp)\n",
    "\n",
    "# Filtering rows where the temperature is greater than 32\n",
    "print(\"\\nRows with temperature greater than 32:\")\n",
    "print(df[df['temperature'] > 32])\n",
    "\n",
    "# Finding the minimum temperature\n",
    "min_temp = df['temperature'].min()\n",
    "print(\"\\nMinimum Temperature:\")\n",
    "print(min_temp)\n",
    "\n",
    "# Finding the standard deviation of the 'windspeed' column\n",
    "windspeed_std = df['windspeed'].std()\n",
    "print(\"\\nStandard Deviation of Windspeed:\")\n",
    "print(windspeed_std)\n",
    "\n",
    "# Using describe() to get summary statistics\n",
    "summary = df.describe()\n",
    "print(\"\\nSummary Statistics for the DataFrame:\")\n",
    "print(summary)\n",
    "\n",
    "# Getting the mean of the 'windspeed' column\n",
    "windspeed_mean = df['windspeed'].mean()\n",
    "print(\"\\nMean of Windspeed:\")\n",
    "print(windspeed_mean)\n",
    "\n",
    "# Resetting the index\n",
    "df.reset_index(inplace=True)\n",
    "print(\"\\nDataFrame with reset index:\")\n",
    "print(df)\n",
    "\n",
    "# Setting the 'day' column as the index\n",
    "df.set_index('day', inplace=True)\n",
    "print(\"\\nDataFrame with 'day' as index:\")\n",
    "print(df)\n",
    "\n",
    "# Accessing rows based on the index (day)\n",
    "print(\"\\nAccessing row for '1/2/2017':\")\n",
    "print(df.loc['1/2/2017'])\n",
    "\n",
    "# Setting 'event' as the index\n",
    "df.reset_index(inplace=True)\n",
    "print(\"\\nDataFrame with 'event' as index:\")\n",
    "print(df)\n",
    "\n",
    "# Accessing rows based on the 'event' index\n",
    "print(\"\\nAccessing rows for 'Snow' event:\")\n",
    "print(df.loc['Snow'])"
   ]
  },
  {
   "cell_type": "code",
   "execution_count": 4,
   "id": "fa212572-a77a-44a0-9376-55e9362c987f",
   "metadata": {},
   "outputs": [
    {
     "name": "stdout",
     "output_type": "stream",
     "text": [
      "\n",
      "Summary Statistics for the DataFrame:\n",
      "          index  temperature  windspeed\n",
      "count  6.000000     6.000000   6.000000\n",
      "mean   2.500000    30.333333   4.666667\n",
      "std    1.870829     3.829708   2.338090\n",
      "min    0.000000    24.000000   2.000000\n",
      "25%    1.250000    28.750000   2.500000\n",
      "50%    2.500000    31.500000   5.000000\n",
      "75%    3.750000    32.000000   6.750000\n",
      "max    5.000000    35.000000   7.000000\n"
     ]
    }
   ],
   "source": [
    "summary = df.describe()\n",
    "print(\"\\nSummary Statistics for the DataFrame:\")\n",
    "print(summary)"
   ]
  },
  {
   "cell_type": "code",
   "execution_count": 12,
   "id": "4405523e-88d7-4253-9542-fdbf8d7abf72",
   "metadata": {},
   "outputs": [
    {
     "name": "stdout",
     "output_type": "stream",
     "text": [
      "None\n"
     ]
    }
   ],
   "source": [
    "df=df.reset_index(inplace=True)\n",
    "print(df)"
   ]
  },
  {
   "cell_type": "code",
   "execution_count": 20,
   "id": "0f4e0898-72c2-47ea-b18b-9a707bfbb92a",
   "metadata": {},
   "outputs": [
    {
     "name": "stdout",
     "output_type": "stream",
     "text": [
      "Index(['level_0', 'index', 'day', 'temperature', 'windspeed', 'event'], dtype='object')\n"
     ]
    }
   ],
   "source": [
    "print(df.columns)\n"
   ]
  },
  {
   "cell_type": "code",
   "execution_count": null,
   "id": "0d73563f-cc84-4294-a1d0-94d3dbb56fa5",
   "metadata": {},
   "outputs": [],
   "source": []
  }
 ],
 "metadata": {
  "kernelspec": {
   "display_name": "Python 3 (ipykernel)",
   "language": "python",
   "name": "python3"
  },
  "language_info": {
   "codemirror_mode": {
    "name": "ipython",
    "version": 3
   },
   "file_extension": ".py",
   "mimetype": "text/x-python",
   "name": "python",
   "nbconvert_exporter": "python",
   "pygments_lexer": "ipython3",
   "version": "3.12.7"
  }
 },
 "nbformat": 4,
 "nbformat_minor": 5
}

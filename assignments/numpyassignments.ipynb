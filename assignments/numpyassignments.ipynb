{
 "cells": [
  {
   "cell_type": "markdown",
   "id": "3f01deac",
   "metadata": {},
   "source": [
    "# Module: NumPy Assignments\n",
    "## Lesson: NumPy\n",
    "### Assignment 1: Array Creation and Manipulation\n",
    "\n",
    "1. Create a NumPy array of shape (5, 5) filled with random integers between 1 and 20. Replace all the elements in the third column with 1.\n",
    "2. Create a NumPy array of shape (4, 4) with values from 1 to 16. Replace the diagonal elements with 0.\n",
    "\n",
    "### Assignment 2: Array Indexing and Slicing\n",
    "\n",
    "1. Create a NumPy array of shape (6, 6) with values from 1 to 36. Extract the sub-array consisting of the 3rd to 5th rows and 2nd to 4th columns.\n",
    "2. Create a NumPy array of shape (5, 5) with random integers. Extract the elements on the border.\n",
    "\n",
    "### Assignment 3: Array Operations\n",
    "\n",
    "1. Create two NumPy arrays of shape (3, 4) filled with random integers. Perform element-wise addition, subtraction, multiplication, and division.\n",
    "2. Create a NumPy array of shape (4, 4) with values from 1 to 16. Compute the row-wise and column-wise sum.\n",
    "\n",
    "### Assignment 4: Statistical Operations\n",
    "\n",
    "1. Create a NumPy array of shape (5, 5) filled with random integers. Compute the mean, median, standard deviation, and variance of the array.\n",
    "2. Create a NumPy array of shape (3, 3) with values from 1 to 9. Normalize the array (i.e., scale the values to have a mean of 0 and a standard deviation of 1).\n",
    "\n",
    "### Assignment 5: Broadcasting\n",
    "\n",
    "1. Create a NumPy array of shape (3, 3) filled with random integers. Add a 1D array of shape (3,) to each row of the 2D array using broadcasting.\n",
    "2. Create a NumPy array of shape (4, 4) filled with random integers. Subtract a 1D array of shape (4,) from each column of the 2D array using broadcasting.\n",
    "\n",
    "### Assignment 6: Linear Algebra\n",
    "\n",
    "1. Create a NumPy array of shape (3, 3) representing a matrix. Compute its determinant, inverse, and eigenvalues.\n",
    "2. Create two NumPy arrays of shape (2, 3) and (3, 2). Perform matrix multiplication on these arrays.\n",
    "\n",
    "### Assignment 7: Advanced Array Manipulation\n",
    "\n",
    "1. Create a NumPy array of shape (3, 3) with values from 1 to 9. Reshape the array to shape (1, 9) and then to shape (9, 1).\n",
    "2. Create a NumPy array of shape (5, 5) filled with random integers. Flatten the array and then reshape it back to (5, 5).\n",
    "\n",
    "### Assignment 8: Fancy Indexing and Boolean Indexing\n",
    "\n",
    "1. Create a NumPy array of shape (5, 5) filled with random integers. Use fancy indexing to extract the elements at the corners of the array.\n",
    "2. Create a NumPy array of shape (4, 4) filled with random integers. Use boolean indexing to set all elements greater than 10 to 10.\n",
    "\n",
    "### Assignment 9: Structured Arrays\n",
    "\n",
    "1. Create a structured array with fields 'name' (string), 'age' (integer), and 'weight' (float). Add some data and sort the array by age.\n",
    "2. Create a structured array with fields 'x' and 'y' (both integers). Add some data and compute the Euclidean distance between each pair of points.\n",
    "\n",
    "### Assignment 10: Masked Arrays\n",
    "\n",
    "1. Create a masked array of shape (4, 4) with random integers and mask the elements greater than 10. Compute the sum of the unmasked elements.\n",
    "2. Create a masked array of shape (3, 3) with random integers and mask the diagonal elements. Replace the masked elements with the mean of the unmasked elements."
   ]
  },
  {
   "cell_type": "code",
   "execution_count": 4,
   "id": "567a86b9",
   "metadata": {},
   "outputs": [
    {
     "name": "stdout",
     "output_type": "stream",
     "text": [
      "[[ 3  9 11 10 19]\n",
      " [16  8 15 15 20]\n",
      " [ 8  3 12  2 11]\n",
      " [10 11 12 12  9]\n",
      " [18  7  2  1 11]]\n",
      "new arr,[[ 3  9  1 10 19]\n",
      " [16  8  1 15 20]\n",
      " [ 8  3  1  2 11]\n",
      " [10 11  1 12  9]\n",
      " [18  7  1  1 11]]\n"
     ]
    }
   ],
   "source": [
    "import random as rd\n",
    "import numpy as np\n",
    "arrlist=[rd.randint(1,20) for i in range (25)]\n",
    "\n",
    "# Create a (5, 5) array with random integers between 1 and 20\n",
    "arr = np.array(arrlist).reshape(5,5)\n",
    "\n",
    "print(arr)\n",
    "arr[:,2]=1\n",
    "print(f\"new arr,{arr}\")\n"
   ]
  },
  {
   "cell_type": "code",
   "execution_count": 8,
   "id": "06337dda-24aa-4d83-9fe7-c79760e538bc",
   "metadata": {},
   "outputs": [
    {
     "name": "stdout",
     "output_type": "stream",
     "text": [
      "[[[ 1  9 15]\n",
      "  [ 7 14 18]\n",
      "  [12  4 10]]\n",
      "\n",
      " [[ 8  8 16]\n",
      "  [ 7 15 15]\n",
      "  [ 1 12 10]]]\n",
      "new array is [[[ 1  9 15]\n",
      "  [ 7 14 18]\n",
      "  [ 1  1  1]]\n",
      "\n",
      " [[ 8  8 16]\n",
      "  [ 7 15 15]\n",
      "  [ 1  1  1]]]\n"
     ]
    }
   ],
   "source": [
    "#ans 1- second method\n",
    "import numpy as np\n",
    "arr=np.random.randint(1,20,size=(5,5))\n",
    "print(arr)\n",
    "arr[:,2]=1\n",
    "print(f\"new array is {arr}\")"
   ]
  },
  {
   "cell_type": "code",
   "execution_count": 1,
   "id": "c53a2c4f-d6cd-434a-bd9d-387fd224b028",
   "metadata": {},
   "outputs": [
    {
     "name": "stdout",
     "output_type": "stream",
     "text": [
      "Modified array:\n",
      "[[ 0  2  3  4  5  6]\n",
      " [ 7  0  9 10 11 12]\n",
      " [13 14  0 16 17 18]\n",
      " [19 20 21  0 23 24]\n",
      " [25 26 27 28  0 30]\n",
      " [31 32 33 34 35  0]]\n"
     ]
    }
   ],
   "source": [
    "#ans 2 - \n",
    "import numpy as np\n",
    "arr=np.arange(1,37).reshape(6,6)\n",
    "np.fill_diagonal(arr, 0)\n",
    "print(\"Modified array:\")\n",
    "print(arr)\n",
    "\n"
   ]
  },
  {
   "cell_type": "code",
   "execution_count": null,
   "id": "1bfa17f5-c839-49f7-94de-de424b49f668",
   "metadata": {},
   "outputs": [],
   "source": [
    "#ans 3 - \n",
    "import numpy as np\n",
    "arr=np.random.randint(1,100,size=(5,5))\n",
    "arr2=arr[2:4,1:3]\n",
    "print(arr)\n",
    "print(f\"arr2={arr2}\")"
   ]
  },
  {
   "cell_type": "code",
   "execution_count": 2,
   "id": "ba19168a-4f90-4dc9-b8f8-3328706cf5e6",
   "metadata": {},
   "outputs": [
    {
     "name": "stdout",
     "output_type": "stream",
     "text": [
      "[[ 92  33  94 150]\n",
      " [103  81  56  81]\n",
      " [107 139 111 160]]\n",
      "[[  8  29 -56  16]\n",
      " [-53  59 -46 -57]\n",
      " [-89  39 -23  14]]\n",
      "[[2100   62 1425 5561]\n",
      " [1950  770  255  828]\n",
      " [ 882 4450 2948 6351]]\n",
      "[[ 1.19047619 15.5         0.25333333  1.23880597]\n",
      " [ 0.32051282  6.36363636  0.09803922  0.17391304]\n",
      " [ 0.09183673  1.78        0.65671642  1.19178082]]\n"
     ]
    }
   ],
   "source": [
    "#ans 3.1-\n",
    "import numpy as np\n",
    "arr1=np.random.randint(1,100,size=(3,4))\n",
    "arr2=np.random.randint(1,100,size=(3,4))\n",
    "add=arr1+arr2\n",
    "sub=arr1-arr2\n",
    "mul=arr1*arr2\n",
    "div=arr1/arr2\n",
    "print(add)\n",
    "print(sub)\n",
    "print(mul)\n",
    "print(div)"
   ]
  },
  {
   "cell_type": "code",
   "execution_count": 7,
   "id": "0b9edf10-3b1f-4985-849e-984208859c63",
   "metadata": {},
   "outputs": [
    {
     "name": "stdout",
     "output_type": "stream",
     "text": [
      "[28 32 36 40]\n",
      "[10 26 42 58]\n"
     ]
    }
   ],
   "source": [
    "#ans 3.2 -\n",
    "import numpy as np\n",
    "arr=np.arange(1,17).reshape(4,4)\n",
    "row_wise=np.sum(arr,axis=0)\n",
    "column_wise=np.sum(arr,axis=1)\n",
    "print(row_wise)\n",
    "print(column_wise)"
   ]
  },
  {
   "cell_type": "code",
   "execution_count": 8,
   "id": "945f213b-461e-4b3f-8115-575ea4e9fbed",
   "metadata": {},
   "outputs": [
    {
     "name": "stdout",
     "output_type": "stream",
     "text": [
      "45.0\n",
      "30.01333037168651\n",
      "900.8\n"
     ]
    }
   ],
   "source": [
    "#ans 4.1-\n",
    "import numpy as np\n",
    "arr1=np.random.randint(1,100,size=(5,5))\n",
    "arr2=np.random.randint(1,100,size=(5,5))\n",
    "mean=np.mean(arr1)\n",
    "std_dev=np.std(arr1)\n",
    "variance=np.var(arr1)\n",
    "print(mean)\n",
    "print(std_dev)\n",
    "print(variance)"
   ]
  },
  {
   "cell_type": "code",
   "execution_count": 12,
   "id": "65d385f7-6bf1-4653-85ea-e6e2995dc3f5",
   "metadata": {},
   "outputs": [
    {
     "name": "stdout",
     "output_type": "stream",
     "text": [
      "[[0 1 2]\n",
      " [3 4 5]\n",
      " [6 7 8]]\n",
      "2.581988897471611\n",
      "4.0\n",
      "[[-1.54919334 -1.161895   -0.77459667]\n",
      " [-0.38729833  0.          0.38729833]\n",
      " [ 0.77459667  1.161895    1.54919334]]\n",
      "0.0\n"
     ]
    }
   ],
   "source": [
    "# ans 4.2-\n",
    "arr=np.arange(9).reshape(3,3)\n",
    "std_dev=np.std(arr)\n",
    "mean=np.mean(arr)\n",
    "normalised=(arr - mean) / std_dev\n",
    "print(arr)\n",
    "print(std_dev)\n",
    "print(mean)\n",
    "normalised_mean=np.mean(normalised)\n",
    "print(normalised)\n",
    "print(normalised_mean)"
   ]
  },
  {
   "cell_type": "code",
   "execution_count": null,
   "id": "c2fd6429-5c63-4201-bfea-b1e7ba8a14a0",
   "metadata": {},
   "outputs": [],
   "source": [
    "# Create a NumPy array of shape (3, 3) representing a matrix\n",
    "import numpy as np\n",
    "matrix = np.random.randint(1, 11, size=(3, 3))\n",
    "print(\"Original matrix:\")\n",
    "print(matrix)\n",
    "\n",
    "# Compute the determinant\n",
    "determinant = np.linalg.det(matrix)\n",
    "print(\"Determinant:\", determinant)\n",
    "\n",
    "# Compute the inverse\n",
    "inverse = np.linalg.inv(matrix)\n",
    "print(\"Inverse:\")\n",
    "print(inverse)\n",
    "\n",
    "# Compute the eigenvalues\n",
    "eigenvalues = np.linalg.eigvals(matrix)\n",
    "print(\"Eigenvalues:\", eigenvalues)"
   ]
  }
 ],
 "metadata": {
  "kernelspec": {
   "display_name": "Python 3 (ipykernel)",
   "language": "python",
   "name": "python3"
  },
  "language_info": {
   "codemirror_mode": {
    "name": "ipython",
    "version": 3
   },
   "file_extension": ".py",
   "mimetype": "text/x-python",
   "name": "python",
   "nbconvert_exporter": "python",
   "pygments_lexer": "ipython3",
   "version": "3.12.7"
  }
 },
 "nbformat": 4,
 "nbformat_minor": 5
}
